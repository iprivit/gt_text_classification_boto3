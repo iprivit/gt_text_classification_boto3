{
 "cells": [
  {
   "cell_type": "markdown",
   "metadata": {},
   "source": [
    "##  Ground Truth Text Labeling"
   ]
  },
  {
   "cell_type": "code",
   "execution_count": 19,
   "metadata": {},
   "outputs": [],
   "source": [
    "import json\n",
    "import os\n",
    "import time\n",
    "import boto3\n",
    "import random\n",
    "import sagemaker\n",
    "import pandas as pd\n",
    "\n",
    "sagemaker_session = sagemaker.Session()\n",
    "role = sagemaker.get_execution_role()\n",
    "s3 = boto3.client('s3')\n",
    "sm_client = boto3.client('sagemaker')\n",
    "bucket = sagemaker_session.default_bucket()\n",
    "region = boto3.session.Session().region_name\n",
    "\n",
    "\n",
    "# https://docs.aws.amazon.com/sagemaker/latest/APIReference/API_HumanTaskConfig.html\n",
    "# https://github.com/aws-samples/amazon-sagemaker-ground-truth-task-uis"
   ]
  },
  {
   "cell_type": "markdown",
   "metadata": {},
   "source": [
    "### Set up a private work team\n",
    "\n",
    "If you want to preview the worker task UI, create a private work team and add yourself as a worker. \n",
    "\n",
    "If you have already created a private workforce, follow the instructions in [Add or Remove Workers](https://docs.aws.amazon.com/sagemaker/latest/dg/sms-workforce-management-private-console.html#add-remove-workers-sm) to add yourself to the work team you use to create a lableing job. \n",
    "\n",
    "#### Create a private workforce and add yourself as a worker\n",
    "\n",
    "To create and manage your private workforce, you can use the **Labeling workforces** page in the Amazon SageMaker console. When following the instructions below, you will have the option to create a private workforce by entering worker emails or importing a pre-existing workforce from an Amazon Cognito user pool. To import a workforce, see [Create a Private Workforce (Amazon Cognito Console)](https://docs.aws.amazon.com/sagemaker/latest/dg/sms-workforce-create-private-cognito.html).\n",
    "\n",
    "To create a private workforce using worker emails:\n",
    "\n",
    "* Open the Amazon SageMaker console at https://console.aws.amazon.com/sagemaker/.\n",
    "\n",
    "* In the navigation pane, choose **Labeling workforces**.\n",
    "\n",
    "* Choose Private, then choose **Create private team**.\n",
    "\n",
    "* Choose **Invite new workers by email**.\n",
    "\n",
    "* Paste or type a list of up to 50 email addresses, separated by commas, into the email addresses box.\n",
    "\n",
    "* Enter an organization name and contact email.\n",
    "\n",
    "* Optionally choose an SNS topic to subscribe the team to so workers are notified by email when new Ground Truth labeling jobs become available. \n",
    "\n",
    "* Click the **Create private team** button.\n",
    "\n",
    "After you import your private workforce, refresh the page. On the Private workforce summary page, you'll see your work team ARN. Enter this ARN in the following cell. "
   ]
  },
  {
   "cell_type": "code",
   "execution_count": null,
   "metadata": {},
   "outputs": [],
   "source": [
    "WORKTEAM_ARN = '<PUT YOUR WORKTEAM ARN HERE>'\n"
   ]
  },
  {
   "cell_type": "markdown",
   "metadata": {},
   "source": [
    "## Let's download a text dataset"
   ]
  },
  {
   "cell_type": "code",
   "execution_count": 5,
   "metadata": {
    "scrolled": true
   },
   "outputs": [
    {
     "name": "stdout",
     "output_type": "stream",
     "text": [
      "Downloading dataset for squad...\n",
      "--2020-08-31 20:54:06--  https://rajpurkar.github.io/SQuAD-explorer/dataset/train-v1.1.json\n",
      "Resolving rajpurkar.github.io (rajpurkar.github.io)... 185.199.109.153, 185.199.110.153, 185.199.111.153, ...\n",
      "Connecting to rajpurkar.github.io (rajpurkar.github.io)|185.199.109.153|:443... connected.\n",
      "HTTP request sent, awaiting response... 200 OK\n",
      "Length: 30288272 (29M) [application/json]\n",
      "Saving to: ‘v1.1/train-v1.1.json’\n",
      "\n",
      "v1.1/train-v1.1.jso 100%[===================>]  28.88M  --.-KB/s    in 0.1s    \n",
      "\n",
      "2020-08-31 20:54:06 (224 MB/s) - ‘v1.1/train-v1.1.json’ saved [30288272/30288272]\n",
      "\n",
      "--2020-08-31 20:54:06--  https://rajpurkar.github.io/SQuAD-explorer/dataset/dev-v1.1.json\n",
      "Resolving rajpurkar.github.io (rajpurkar.github.io)... 185.199.108.153, 185.199.111.153, 185.199.110.153, ...\n",
      "Connecting to rajpurkar.github.io (rajpurkar.github.io)|185.199.108.153|:443... connected.\n",
      "HTTP request sent, awaiting response... 200 OK\n",
      "Length: 4854279 (4.6M) [application/json]\n",
      "Saving to: ‘v1.1/dev-v1.1.json’\n",
      "\n",
      "v1.1/dev-v1.1.json  100%[===================>]   4.63M  --.-KB/s    in 0.04s   \n",
      "\n",
      "2020-08-31 20:54:06 (118 MB/s) - ‘v1.1/dev-v1.1.json’ saved [4854279/4854279]\n",
      "\n",
      "--2020-08-31 20:54:06--  https://worksheets.codalab.org/rest/bundles/0xbcd57bee090b421c982906709c8c27e1/contents/blob/\n",
      "Resolving worksheets.codalab.org (worksheets.codalab.org)... 40.114.41.203\n",
      "Connecting to worksheets.codalab.org (worksheets.codalab.org)|40.114.41.203|:443... connected.\n",
      "HTTP request sent, awaiting response... 200 OK\n",
      "Syntax error in Set-Cookie: codalab_session=\"\"; expires=Thu, 01 Jan 1970 00:00:00 GMT; Max-Age=-1; Path=/ at position 70.\n",
      "Length: unspecified [text/x-python]\n",
      "Saving to: ‘v1.1/evaluate-v1.1.py’\n",
      "\n",
      "v1.1/evaluate-v1.1.     [ <=>                ]   3.34K  --.-KB/s    in 0s      \n",
      "\n",
      "2020-08-31 20:54:06 (353 MB/s) - ‘v1.1/evaluate-v1.1.py’ saved [3419]\n",
      "\n",
      "--2020-08-31 20:54:06--  https://rajpurkar.github.io/SQuAD-explorer/dataset/train-v2.0.json\n",
      "Resolving rajpurkar.github.io (rajpurkar.github.io)... 185.199.109.153, 185.199.108.153, 185.199.111.153, ...\n",
      "Connecting to rajpurkar.github.io (rajpurkar.github.io)|185.199.109.153|:443... connected.\n",
      "HTTP request sent, awaiting response... 200 OK\n",
      "Length: 42123633 (40M) [application/json]\n",
      "Saving to: ‘v2.0/train-v2.0.json’\n",
      "\n",
      "v2.0/train-v2.0.jso 100%[===================>]  40.17M   242MB/s    in 0.2s    \n",
      "\n",
      "2020-08-31 20:54:07 (242 MB/s) - ‘v2.0/train-v2.0.json’ saved [42123633/42123633]\n",
      "\n",
      "--2020-08-31 20:54:07--  https://rajpurkar.github.io/SQuAD-explorer/dataset/dev-v2.0.json\n",
      "Resolving rajpurkar.github.io (rajpurkar.github.io)... 185.199.110.153, 185.199.109.153, 185.199.108.153, ...\n",
      "Connecting to rajpurkar.github.io (rajpurkar.github.io)|185.199.110.153|:443... connected.\n",
      "HTTP request sent, awaiting response... 200 OK\n",
      "Length: 4370528 (4.2M) [application/json]\n",
      "Saving to: ‘v2.0/dev-v2.0.json’\n",
      "\n",
      "v2.0/dev-v2.0.json  100%[===================>]   4.17M  --.-KB/s    in 0.03s   \n",
      "\n",
      "2020-08-31 20:54:08 (121 MB/s) - ‘v2.0/dev-v2.0.json’ saved [4370528/4370528]\n",
      "\n",
      "--2020-08-31 20:54:08--  https://worksheets.codalab.org/rest/bundles/0x6b567e1cf2e041ec80d7098f031c5c9e/contents/blob/\n",
      "Resolving worksheets.codalab.org (worksheets.codalab.org)... 40.114.41.203\n",
      "Connecting to worksheets.codalab.org (worksheets.codalab.org)|40.114.41.203|:443... connected.\n",
      "HTTP request sent, awaiting response... 200 OK\n",
      "Syntax error in Set-Cookie: codalab_session=\"\"; expires=Thu, 01 Jan 1970 00:00:00 GMT; Max-Age=-1; Path=/ at position 70.\n",
      "Length: unspecified [text/x-python]\n",
      "Saving to: ‘v2.0/evaluate-v2.0.py’\n",
      "\n",
      "v2.0/evaluate-v2.0.     [ <=>                ]  10.30K  --.-KB/s    in 0s      \n",
      "\n",
      "2020-08-31 20:54:08 (220 MB/s) - ‘v2.0/evaluate-v2.0.py’ saved [10547]\n",
      "\n",
      "Squad data download done!\n",
      "Verifying Dataset....\n",
      "Complete!\n"
     ]
    }
   ],
   "source": [
    "!bash squad_download.sh\n"
   ]
  },
  {
   "cell_type": "code",
   "execution_count": 13,
   "metadata": {},
   "outputs": [],
   "source": [
    "with open('/home/ec2-user/SageMaker/v2.0/train-v2.0.json', 'r') as f:\n",
    "    squad_data = json.load(f)"
   ]
  },
  {
   "cell_type": "markdown",
   "metadata": {},
   "source": [
    "## Let's look at some of the entries\n",
    "\n",
    "The dataset we downloaded is a common natural language understanding dataset called the Stanford Question Answering Dataset. We are going to use it for a couple different text tasks.\n",
    "\n",
    "To learn more about SQuAD check out this page:\n",
    "\n",
    "https://rajpurkar.github.io/SQuAD-explorer/"
   ]
  },
  {
   "cell_type": "code",
   "execution_count": 8,
   "metadata": {},
   "outputs": [
    {
     "name": "stdout",
     "output_type": "stream",
     "text": [
      "Paragraph title:  Spectre_(2015_film) \n",
      "\n",
      "Spectre (2015) is the twenty-fourth James Bond film produced by Eon Productions. It features Daniel Craig in his fourth performance as James Bond, and Christoph Waltz as Ernst Stavro Blofeld, with the film marking the character's re-introduction into the series. It was directed by Sam Mendes as his second James Bond film following Skyfall, and was written by John Logan, Neal Purvis, Robert Wade and Jez Butterworth. It is distributed by Metro-Goldwyn-Mayer and Columbia Pictures. With a budget around $245 million, it is the most expensive Bond film and one of the most expensive films ever made. \n",
      "\n",
      "Question: Which company made Spectre?\n",
      "Answer: Eon Productions\n"
     ]
    }
   ],
   "source": [
    "ind = random.randint(0,34)\n",
    "sq = squad_data['data'][ind]\n",
    "print('Paragraph title: ',sq['title'], '\\n')\n",
    "print(sq['paragraphs'][0]['context'],'\\n')\n",
    "print('Question:', sq['paragraphs'][0]['qas'][0]['question'])\n",
    "print('Answer:', sq['paragraphs'][0]['qas'][0]['answers'][0]['text'])\n"
   ]
  },
  {
   "cell_type": "markdown",
   "metadata": {},
   "source": [
    "## Transform data \n",
    "\n",
    "In order to work with ground truth we can do one of two things to put our data in the proper format, we can provide Ground Truth with a CSV or TXT file and let it perform the conversion into a manifest going through the console, or we can manually convert it into a manifest and launch the job from the notebook. The manifest is in the form of a json line file where each line has the text we want to classify "
   ]
  },
  {
   "cell_type": "code",
   "execution_count": 14,
   "metadata": {},
   "outputs": [],
   "source": [
    "# put data in a list \n",
    "text_list = []\n",
    "for data in squad_data['data']:\n",
    "    text_list.append(data['paragraphs'][0]['context'])\n",
    "    \n",
    "os.makedirs('text_for_labeling', exist_ok=True)\n",
    "\n",
    "# create txt file\n",
    "with open('text_for_labeling/squad.txt','w') as f:\n",
    "    for text in text_list:\n",
    "        f.write(text)\n",
    "        f.write('\\n')\n",
    "\n",
    "# create CSV file\n",
    "text_frame = pd.DataFrame()\n",
    "text_frame['txt'] = text_list\n",
    "text_frame.to_csv('text_for_labeling/squad.csv',index=False)\n",
    "\n",
    "# create manifests \n",
    "with open('text_for_labeling/squad.manifest','w') as f:\n",
    "    for text in text_list:\n",
    "        f.write(json.dumps({'source':text}))\n",
    "        f.write('\\n')"
   ]
  },
  {
   "cell_type": "code",
   "execution_count": 15,
   "metadata": {},
   "outputs": [],
   "source": [
    "# send to s3\n",
    "s3.upload_file(Filename='text_for_labeling/squad.csv', Bucket=bucket, Key='text_files/csv/squad.csv')\n",
    "s3.upload_file(Filename='text_for_labeling/squad.txt', Bucket=bucket, Key='text_files/txt/squad.txt')\n",
    "s3.upload_file(Filename='text_for_labeling/squad.manifest', Bucket=bucket, Key='text_files/text_manifests/squad.manifest')\n",
    "INPUT_MANIFEST_S3_URI = f's3://{bucket}/text_files/text_manifests/squad.manifest'"
   ]
  },
  {
   "cell_type": "markdown",
   "metadata": {},
   "source": [
    "## Label categories\n",
    "\n",
    "We can create label categories through the ground truth console, or we can create them manually if using boto3, we are going to create a new entry structured:\n",
    "\n",
    "{\"label\": \"YOUR LABEL\"}"
   ]
  },
  {
   "cell_type": "code",
   "execution_count": 21,
   "metadata": {},
   "outputs": [],
   "source": [
    "# create label categories\n",
    "\n",
    "labelcats = {\n",
    "    \"document-version\": \"2020-08-15\",\n",
    "    \"auditLabelAttributeName\": \"Text\",\n",
    "    \"labels\": [\n",
    "        {\n",
    "            \"label\": \"Entity\",\n",
    "        },\n",
    "        {\n",
    "            \"label\": \"Location\",\n",
    "        },\n",
    "        {\n",
    "            \"label\": \"Animal\",\n",
    "        },\n",
    "    ],\n",
    "    \"instructions\": {\n",
    "        \"shortInstruction\": \"Classify the text using one of the following labels\",\n",
    "        \"fullInstruction\": \"Some useful instruction\"\n",
    "    }\n",
    "}\n",
    "\n",
    "filename = '/home/ec2-user/SageMaker/text_for_labeling/text_categories.json'\n",
    "with open(filename,'w') as f:\n",
    "    json.dump(labelcats,f)\n",
    "\n",
    "s3.upload_file(Filename=filename, Bucket=bucket, Key='text_files/text_manifests/text_categories.json')\n",
    "\n",
    "LABEL_CATEGORIES_S3_URI = f's3://{bucket}/text_files/text_manifests/text_categories.json'"
   ]
  },
  {
   "cell_type": "markdown",
   "metadata": {},
   "source": [
    "## Get our labeling template\n",
    "\n",
    "There are different templates available for different labeling tasks, to see some examples check out:\n",
    "\n",
    "https://github.com/aws-samples/amazon-sagemaker-ground-truth-task-uis\n",
    "\n",
    "To use one of these UIs, you'll want to clone the repo and then send the template to s3 so ground truth can grab it.\n",
    "We have provided two common templates, text classification, and named entity recogntion for you to use."
   ]
  },
  {
   "cell_type": "code",
   "execution_count": 17,
   "metadata": {},
   "outputs": [
    {
     "name": "stdout",
     "output_type": "stream",
     "text": [
      "fatal: destination path 'amazon-sagemaker-ground-truth-task-uis' already exists and is not an empty directory.\n",
      "upload: amazon-sagemaker-ground-truth-task-uis/text/text-classification-multiselect.liquid.html to s3://sagemaker-us-east-1-209419068016/text_files/text_manifests/text-classification-multiselect.liquid.html\n"
     ]
    }
   ],
   "source": [
    "# how to use one of the ground truth UIs\n",
    "\n",
    "# !git clone https://github.com/aws-samples/amazon-sagemaker-ground-truth-task-uis.git\n",
    "    \n",
    "# !aws s3 cp amazon-sagemaker-ground-truth-task-uis/text/text-classification-multiselect.liquid.html s3://{bucket}/text_files/text_manifests/text-classification-multiselect.liquid.html\n",
    "\n",
    "# try switching to named-entity-recognition.liquid for NER\n",
    "template = 'text-classification-multiselect.liquid'\n",
    "\n",
    "!aws s3 cp {template} s3://{bucket}/text_files/text_manifests/{template}"
   ]
  },
  {
   "cell_type": "markdown",
   "metadata": {},
   "source": [
    "## Launch labeling job from notebook"
   ]
  },
  {
   "cell_type": "code",
   "execution_count": 22,
   "metadata": {},
   "outputs": [
    {
     "name": "stdout",
     "output_type": "stream",
     "text": [
      "{'LabelingJobName': 'text-multi-class-demo-check', 'HumanTaskConfig': {'AnnotationConsolidationConfig': {'AnnotationConsolidationLambdaArn': 'arn:aws:lambda:us-east-1:432418664414:function:ACS-TextMultiClassMultiLabel'}, 'MaxConcurrentTaskCount': 200, 'NumberOfHumanWorkersPerDataObject': 1, 'PreHumanTaskLambdaArn': 'arn:aws:lambda:us-east-1:432418664414:function:PRE-TextMultiClassMultiLabel', 'TaskAvailabilityLifetimeInSeconds': 864000, 'TaskDescription': 'Classify text', 'TaskKeywords': ['Text Classification', 'Labeling'], 'TaskTimeLimitInSeconds': 800, 'TaskTitle': 'text-multi-class-demo-check', 'UiConfig': {'UiTemplateS3Uri': 's3://sagemaker-us-east-1-209419068016/text_files/text_manifests/text-classification-multiselect.liquid.html'}, 'WorkteamArn': 'arn:aws:sagemaker:us-east-1:209419068016:workteam/private-crowd/ijp-private-workteam'}, 'InputConfig': {'DataAttributes': {'ContentClassifiers': ['FreeOfPersonallyIdentifiableInformation', 'FreeOfAdultContent']}, 'DataSource': {'S3DataSource': {'ManifestS3Uri': 's3://sagemaker-us-east-1-209419068016/text_files/text_manifests/squad.manifest'}}}, 'LabelAttributeName': 'Text', 'LabelCategoryConfigS3Uri': 's3://sagemaker-us-east-1-209419068016/text_files/text_manifests/text_categories.json', 'OutputConfig': {'S3OutputPath': 's3://sagemaker-us-east-1-209419068016/text_files/text_job_output/'}, 'RoleArn': 'arn:aws:iam::209419068016:role/service-role/AmazonSageMaker-ExecutionRole-20200812T131972', 'StoppingConditions': {'MaxPercentageOfInputDatasetLabeled': 100}}\n",
      "{'LabelingJobArn': 'arn:aws:sagemaker:us-east-1:209419068016:labeling-job/text-multi-class-demo-check', 'ResponseMetadata': {'RequestId': 'd94fecd5-5832-4298-abf0-e5d4d3e84e2e', 'HTTPStatusCode': 200, 'HTTPHeaders': {'x-amzn-requestid': 'd94fecd5-5832-4298-abf0-e5d4d3e84e2e', 'content-type': 'application/x-amz-json-1.1', 'content-length': '102', 'date': 'Mon, 31 Aug 2020 21:08:35 GMT'}, 'RetryAttempts': 0}}\n"
     ]
    }
   ],
   "source": [
    "\n",
    "LABELING_JOB_NAME = 'text-multi-class-demo-large'\n",
    "UI_TEMPLATE_S3_URI = f's3://{bucket}/text_files/text_manifests/text-classification-multiselect.liquid\n",
    "\n",
    "createLabelingJob_request = {\n",
    "  \"LabelingJobName\": LABELING_JOB_NAME,\n",
    "  \"HumanTaskConfig\": {\n",
    "    \"AnnotationConsolidationConfig\": {\n",
    "      \"AnnotationConsolidationLambdaArn\": f\"arn:aws:lambda:{region}:432418664414:function:ACS-TextMultiClassMultiLabel\"\n",
    "    },\n",
    "    \"MaxConcurrentTaskCount\": 200,\n",
    "    \"NumberOfHumanWorkersPerDataObject\": 1,\n",
    "    \"PreHumanTaskLambdaArn\": f\"arn:aws:lambda:{region}:432418664414:function:PRE-TextMultiClassMultiLabel\",\n",
    "    \"TaskAvailabilityLifetimeInSeconds\": 864000,\n",
    "    \"TaskDescription\": \"Classify text\",\n",
    "    \"TaskKeywords\": [\n",
    "      \"Text Classification\",\n",
    "      \"Labeling\"\n",
    "    ],\n",
    "    \"TaskTimeLimitInSeconds\": 800,\n",
    "    \"TaskTitle\": LABELING_JOB_NAME,\n",
    "    \"UiConfig\": {\n",
    "      \"UiTemplateS3Uri\": UI_TEMPLATE_S3_URI\n",
    "    },\n",
    "    \"WorkteamArn\": WORKTEAM_ARN\n",
    "  },\n",
    "  \"InputConfig\": {\n",
    "    \"DataAttributes\": {\n",
    "      \"ContentClassifiers\": [\n",
    "        \"FreeOfPersonallyIdentifiableInformation\",\n",
    "        \"FreeOfAdultContent\"\n",
    "      ]\n",
    "    },\n",
    "    \"DataSource\": {\n",
    "      \"S3DataSource\": {\n",
    "        \"ManifestS3Uri\": INPUT_MANIFEST_S3_URI\n",
    "      }\n",
    "    }\n",
    "  },\n",
    "  \"LabelAttributeName\": \"Text\",\n",
    "  \"LabelCategoryConfigS3Uri\": LABEL_CATEGORIES_S3_URI,\n",
    "  \"OutputConfig\": {\n",
    "    \"S3OutputPath\": f\"s3://{bucket}/text_files/text_job_output/\"\n",
    "  },\n",
    "  \"RoleArn\": role,\n",
    "  \"StoppingConditions\": {\n",
    "    \"MaxPercentageOfInputDatasetLabeled\": 100\n",
    "  }\n",
    "}\n",
    "print(createLabelingJob_request)\n",
    "out = sm_client.create_labeling_job(**createLabelingJob_request)\n",
    "print(out)"
   ]
  },
  {
   "cell_type": "markdown",
   "metadata": {},
   "source": [
    "## Describe labeling job"
   ]
  },
  {
   "cell_type": "code",
   "execution_count": null,
   "metadata": {},
   "outputs": [],
   "source": [
    "describe = sm_client.describe_labeling_job(LabelingJobName=LABELING_JOB_NAME)\n",
    "try:\n",
    "    output_man = describe['LabelingJobOutput']['OutputDatasetS3Uri']\n",
    "except:\n",
    "    print('Job not finished yet!')"
   ]
  },
  {
   "cell_type": "code",
   "execution_count": 79,
   "metadata": {},
   "outputs": [
    {
     "name": "stdout",
     "output_type": "stream",
     "text": [
      "download: s3://privisaa-bucket-2/text_files/text_manifests/text-example-multi-class-job/manifests/output/output.manifest to text_for_labeling/output/output.manifest\n"
     ]
    }
   ],
   "source": [
    "!aws s3 cp {output_man} /home/ec2-user/SageMaker/text_for_labeling/output/output.manifest"
   ]
  },
  {
   "cell_type": "markdown",
   "metadata": {},
   "source": [
    "## View our results"
   ]
  },
  {
   "cell_type": "code",
   "execution_count": 80,
   "metadata": {},
   "outputs": [],
   "source": [
    "output_list = []\n",
    "with open('text_for_labeling/output/output.manifest','r') as file:\n",
    "    for line in file:\n",
    "        output_list.append(json.loads(line))"
   ]
  },
  {
   "cell_type": "code",
   "execution_count": 82,
   "metadata": {},
   "outputs": [
    {
     "data": {
      "text/plain": [
       "{'source': '\"The Normans (Norman: Nourmands; French: Normands; Latin: Normanni) were the people who in the 10th and 11th centuries gave their name to Normandy, a region in France. They were descended from Norse (\"\"Norman\"\" comes from \"\"Norseman\"\") raiders and pirates from Denmark, Iceland and Norway who, under their leader Rollo, agreed to swear fealty to King Charles III of West Francia. Through generations of assimilation and mixing with the native Frankish and Roman-Gaulish populations, their descendants would gradually merge with the Carolingian-based cultures of West Francia. The distinct cultural and ethnic identity of the Normans emerged initially in the first half of the 10th century, and it continued to evolve over the succeeding centuries.\"',\n",
       " 'text-example-multi-class-job': [1],\n",
       " 'text-example-multi-class-job-metadata': {'job-name': 'labeling-job/text-example-multi-class-job',\n",
       "  'confidence-map': {'1': 0},\n",
       "  'class-map': {'1': 'topic'},\n",
       "  'type': 'groundtruth/text-classification-multilabel',\n",
       "  'human-annotated': 'yes',\n",
       "  'creation-date': '2020-08-28T04:26:10.319093'}}"
      ]
     },
     "execution_count": 82,
     "metadata": {},
     "output_type": "execute_result"
    }
   ],
   "source": [
    "output_list[1]"
   ]
  }
 ],
 "metadata": {
  "kernelspec": {
   "display_name": "conda_python3",
   "language": "python",
   "name": "conda_python3"
  },
  "language_info": {
   "codemirror_mode": {
    "name": "ipython",
    "version": 3
   },
   "file_extension": ".py",
   "mimetype": "text/x-python",
   "name": "python",
   "nbconvert_exporter": "python",
   "pygments_lexer": "ipython3",
   "version": "3.6.10"
  }
 },
 "nbformat": 4,
 "nbformat_minor": 4
}
